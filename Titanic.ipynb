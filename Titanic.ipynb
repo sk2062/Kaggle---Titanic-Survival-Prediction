{
 "cells": [
  {
   "cell_type": "markdown",
   "metadata": {},
   "source": [
    "## Title : Titanic - Machine Learning from Disaster\n",
    "### Problem Statement : To create a model that predict which passengers survived the Titanic shipwreck."
   ]
  },
  {
   "cell_type": "markdown",
   "metadata": {},
   "source": [
    "### Import Necessary Libraries"
   ]
  },
  {
   "cell_type": "code",
   "execution_count": null,
   "metadata": {},
   "outputs": [],
   "source": [
    "import pandas as pd\n",
    "import numpy as np\n",
    "import matplotlib.pyplot as plt\n",
    "import seaborn as sns"
   ]
  },
  {
   "cell_type": "markdown",
   "metadata": {},
   "source": [
    "### Load and Explore Dataset"
   ]
  },
  {
   "cell_type": "code",
   "execution_count": null,
   "metadata": {},
   "outputs": [],
   "source": [
    "train = pd.read_csv(r\"C:\\Users\\kulka\\OneDrive\\Desktop\\Projects\\Titanic\\train.csv\")\n",
    "test = pd.read_csv(r\"C:\\Users\\kulka\\OneDrive\\Desktop\\Projects\\Titanic\\test.csv\")\n",
    "train.info()"
   ]
  },
  {
   "cell_type": "code",
   "execution_count": null,
   "metadata": {},
   "outputs": [],
   "source": [
    "train.head()"
   ]
  },
  {
   "cell_type": "code",
   "execution_count": null,
   "metadata": {},
   "outputs": [],
   "source": [
    "train.describe()"
   ]
  },
  {
   "cell_type": "markdown",
   "metadata": {},
   "source": [
    "Check for Null Values"
   ]
  },
  {
   "cell_type": "code",
   "execution_count": null,
   "metadata": {},
   "outputs": [],
   "source": [
    "train.isnull().sum()"
   ]
  },
  {
   "cell_type": "markdown",
   "metadata": {},
   "source": [
    "Observations : \n",
    "    1. There are total 891 passengers \n",
    "    2. Age of passengers ranges from 0.4 to 80 and Average age is 30\n",
    "    3. 687 records are missing for 'Cabin' feature which contributes around 77%.Hence, we will remove that variable.\n",
    "    4. I think 'Age' is an important feature while predicting survival rate.Around 20% values are missing.Fill missing values by Median Age\n",
    "    5. 'Passenger_ID','Ticket','Name' does not contribute much for survival prediction.Hence removing these columns\n",
    "    6. For 'Embarked' Feature,Only 2 values are missing . Hence it should not be a problem."
   ]
  },
  {
   "cell_type": "code",
   "execution_count": null,
   "metadata": {},
   "outputs": [],
   "source": [
    "test.info()"
   ]
  },
  {
   "cell_type": "markdown",
   "metadata": {},
   "source": [
    "Fill Null Values for Age Feature in train and test dataset"
   ]
  },
  {
   "cell_type": "code",
   "execution_count": null,
   "metadata": {},
   "outputs": [],
   "source": [
    "# For Train\n",
    "median_1 = train['Age'].median()\n",
    "train['Age'].fillna(median_1,inplace = True)\n",
    "\n",
    "# For Test\n",
    "median_2 = test['Age'].median()\n",
    "test['Age'].fillna(median_2,inplace = True)"
   ]
  },
  {
   "cell_type": "markdown",
   "metadata": {},
   "source": [
    "Fill Null Values for Embarked Feature in Train Dataset"
   ]
  },
  {
   "cell_type": "code",
   "execution_count": null,
   "metadata": {},
   "outputs": [],
   "source": [
    "a = train['Embarked'].value_counts()\n",
    "print(\"Embarked Count:\\n\", a)\n",
    "train[train['Embarked'].isnull()]"
   ]
  },
  {
   "cell_type": "markdown",
   "metadata": {},
   "source": [
    "As Most of the records embarked at port S, Filling missing values for two records with values S"
   ]
  },
  {
   "cell_type": "code",
   "execution_count": null,
   "metadata": {},
   "outputs": [],
   "source": [
    "train['Embarked'].fillna('S',inplace = True)"
   ]
  },
  {
   "cell_type": "code",
   "execution_count": null,
   "metadata": {},
   "outputs": [],
   "source": [
    "print(\"Count of Missing value for Fare Feature in Test Data: \",test['Fare'].isnull().sum())\n",
    "test[test['Fare'].isnull()]"
   ]
  },
  {
   "cell_type": "markdown",
   "metadata": {},
   "source": [
    "One Record is missing for 'Fare' Feature in test dataset.The records missing is of class 3 Hence we fill missing value with mean value of that particular class i.e. class 3"
   ]
  },
  {
   "cell_type": "code",
   "execution_count": null,
   "metadata": {},
   "outputs": [],
   "source": [
    "mean_fare = test[test['Pclass'] == 3]['Fare'].mean()\n",
    "test['Fare'].fillna(mean_fare,inplace = True)"
   ]
  },
  {
   "cell_type": "markdown",
   "metadata": {},
   "source": [
    "Removing unnecessary variables :"
   ]
  },
  {
   "cell_type": "code",
   "execution_count": null,
   "metadata": {},
   "outputs": [],
   "source": [
    "Id = test['PassengerId']\n",
    "train = train.drop(['PassengerId','Cabin','Ticket','Name'],axis = 1)\n",
    "test = test.drop(['PassengerId','Cabin','Ticket','Name'],axis = 1)"
   ]
  },
  {
   "cell_type": "code",
   "execution_count": null,
   "metadata": {},
   "outputs": [],
   "source": [
    "print(\"Check of Null Values for Train Dataset : \\n\",train.isnull().sum())"
   ]
  },
  {
   "cell_type": "code",
   "execution_count": null,
   "metadata": {},
   "outputs": [],
   "source": [
    "print(\"Check of Null Values for Test Dataset : \\n\",test.isnull().sum())"
   ]
  },
  {
   "cell_type": "markdown",
   "metadata": {},
   "source": [
    "### Data Visualization"
   ]
  },
  {
   "cell_type": "code",
   "execution_count": null,
   "metadata": {},
   "outputs": [],
   "source": [
    "plt.figure(figsize=[14,10])\n",
    "\n",
    "plt.subplot(221)\n",
    "train['Survived'].value_counts().plot(kind = 'bar',color = 'c',legend = True)\n",
    "plt.xlabel(\"Not-Survived vs Survived\")\n",
    "plt.ylabel(\"Count\")\n",
    "plt.title(\"Distribution by Survival\")\n",
    "\n",
    "plt.subplot(222)\n",
    "train['Pclass'].value_counts().plot(kind = 'bar',color = 'c',legend = True)\n",
    "plt.xlabel(\"Classes\")\n",
    "plt.ylabel(\"Count\")\n",
    "plt.title(\"Distribution of People by class\")\n",
    "\n",
    "plt.subplot(223)\n",
    "train['Sex'].value_counts().plot(kind = 'bar',color = 'c',legend = True)\n",
    "plt.xlabel(\"Sex\")\n",
    "plt.ylabel(\"Count\")\n",
    "plt.title(\"Distribution of People by Sex\")\n",
    "\n",
    "plt.subplot(224)\n",
    "train['Embarked'].value_counts().plot(kind = 'bar',color = 'c',legend = True)\n",
    "plt.xlabel(\"Port of Embarkation\")\n",
    "plt.ylabel(\"Count\")\n",
    "plt.title(\"Distribution of People by Embarked\")"
   ]
  },
  {
   "cell_type": "code",
   "execution_count": null,
   "metadata": {},
   "outputs": [],
   "source": [
    "#Optional Same plotting using Pivot table\n",
    "plt.figure(figsize=[14,10])\n",
    "\n",
    "#plt.subplot(121)\n",
    "Sex_pivot = train.pivot_table(index=\"Sex\",values=\"Survived\")\n",
    "Sex_pivot.plot.bar()\n",
    "plt.show()\n",
    "\n",
    "#plt.subplot(122)\n",
    "Class_pivot = train.pivot_table(index=\"Pclass\",values=\"Survived\")\n",
    "Class_pivot.plot.bar()\n",
    "plt.show()"
   ]
  },
  {
   "cell_type": "code",
   "execution_count": null,
   "metadata": {},
   "outputs": [],
   "source": [
    "grp_sex = train.groupby('Survived')['Sex'].value_counts()\n",
    "grp_sex.unstack().plot(kind = 'bar')\n",
    "plt.xlabel(\"Not-Survived vs Survived\")\n",
    "plt.ylabel(\"Count\")\n",
    "plt.title(\"Survival Distribution by Sex\")"
   ]
  },
  {
   "cell_type": "markdown",
   "metadata": {},
   "source": [
    "Observation : Female have higher chances of Survival"
   ]
  },
  {
   "cell_type": "code",
   "execution_count": null,
   "metadata": {},
   "outputs": [],
   "source": [
    "age_0_10 = train[train['Age'] < 10]['Age'].count()\n",
    "age_10_20 = train[(train['Age'] >= 10) & (train['Age'] < 20) ]['Age'].count()\n",
    "age_20_30 = train[(train['Age'] >= 20) & (train['Age'] < 30) ]['Age'].count()\n",
    "age_30_40 = train[(train['Age'] >= 30) & (train['Age'] < 40) ]['Age'].count()\n",
    "age_40_50 = train[(train['Age'] >= 40) & (train['Age'] < 50) ]['Age'].count()\n",
    "age_50_60 = train[(train['Age'] >= 50) & (train['Age'] < 60) ]['Age'].count()\n",
    "age_60_70 = train[(train['Age'] >= 60) & (train['Age'] < 70) ]['Age'].count()\n",
    "age_70_80 = train[(train['Age'] >= 70) & (train['Age'] <= 80) ]['Age'].count()\n",
    "\n",
    "Age_dist = [age_0_10,age_10_20,age_20_30,age_30_40,age_40_50,age_50_60,age_60_70,age_70_80]\n",
    "Age_graph = pd.DataFrame({'Age Range':['0-10','10-20','20-30','30-40','40-50','50-60','60-70','70-80'],'Count' : Age_dist})\n",
    "\n",
    "Age_graph.set_index('Age Range',inplace = True)\n",
    "\n",
    "Age_graph.plot(kind = 'bar',color = 'g')\n",
    "\n",
    "#plt.pie(Age_graph['Count'],labels = Age_graph['Age Range'])\n",
    "plt.xlabel(\"Age Range\")\n",
    "plt.ylabel(\"Count\")\n",
    "plt.title(\"Distribution by Age\")"
   ]
  },
  {
   "cell_type": "markdown",
   "metadata": {},
   "source": [
    "Observation : There are more number of people in the range 20-30"
   ]
  },
  {
   "cell_type": "code",
   "execution_count": null,
   "metadata": {},
   "outputs": [],
   "source": [
    "grp_class = train.groupby('Survived')['Pclass'].value_counts()\n",
    "grp_class.unstack().plot(kind = 'bar')\n",
    "plt.xlabel(\"Not-Survived vs Survived\")\n",
    "plt.ylabel(\"Count\")\n",
    "plt.title(\"Survival Distribution by Class\")"
   ]
  },
  {
   "cell_type": "markdown",
   "metadata": {},
   "source": [
    "Observation : People from class 1 have higher chances of survival and People from class 3 have less chances of survival"
   ]
  },
  {
   "cell_type": "code",
   "execution_count": null,
   "metadata": {},
   "outputs": [],
   "source": [
    "grp_emb = train.groupby('Survived')['Embarked'].value_counts()\n",
    "grp_emb.unstack().plot(kind = 'bar',stacked = True)\n",
    "plt.xlabel(\"Not-Survived vs Survived\")\n",
    "plt.ylabel(\"Count\")\n",
    "plt.title(\"Survival Distribution by Embarked\")"
   ]
  },
  {
   "cell_type": "markdown",
   "metadata": {},
   "source": [
    "Observation :  Most of the people are embarked at port 'S'"
   ]
  },
  {
   "cell_type": "code",
   "execution_count": null,
   "metadata": {},
   "outputs": [],
   "source": [
    "plt.figure(figsize=(12,9))\n",
    "sns.countplot(x=\"SibSp\", hue=\"Survived\", data=train)\n",
    "plt.title(\"Survival On Basis of Number of sibling\")\n",
    "plt.legend(loc='best')"
   ]
  },
  {
   "cell_type": "code",
   "execution_count": null,
   "metadata": {},
   "outputs": [],
   "source": [
    "plt.figure(figsize=(12,9))\n",
    "sns.countplot(x=\"Parch\", hue=\"Survived\", data=train)\n",
    "plt.title(\"Survival On Basis of Number of Parent\")\n",
    "plt.legend()"
   ]
  },
  {
   "cell_type": "code",
   "execution_count": null,
   "metadata": {
    "scrolled": true
   },
   "outputs": [],
   "source": [
    "age_0_10 = train[train['Age'] < 10]\n",
    "age_10_20 = train[(train['Age'] >= 10) & (train['Age'] < 20) ]\n",
    "age_20_30 = train[(train['Age'] >= 20) & (train['Age'] < 30) ]\n",
    "age_30_40 = train[(train['Age'] >= 30) & (train['Age'] < 40) ]\n",
    "age_40_50 = train[(train['Age'] >= 40) & (train['Age'] < 50) ]\n",
    "age_50_60 = train[(train['Age'] >= 50) & (train['Age'] < 60) ]\n",
    "age_60_70 = train[(train['Age'] >= 60) & (train['Age'] < 70) ]\n",
    "age_70_80 = train[(train['Age'] >= 70) & (train['Age'] <= 80) ]\n",
    "\n",
    "x1 = age_0_10.groupby('Age')['Survived'].value_counts().rename('Count').reset_index()\n",
    "a1 = x1[x1['Survived'] == 0]['Count'].sum()\n",
    "b1 = x1[x1['Survived'] == 1]['Count'].sum()\n",
    "\n",
    "x2 = age_10_20.groupby('Age')['Survived'].value_counts().rename('Count').reset_index()\n",
    "a2 = x2[x2['Survived'] == 0]['Count'].sum()\n",
    "b2 = x2[x2['Survived'] == 1]['Count'].sum()\n",
    "\n",
    "x3 = age_20_30.groupby('Age')['Survived'].value_counts().rename('Count').reset_index()\n",
    "a3 = x3[x3['Survived'] == 0]['Count'].sum()\n",
    "b3 = x3[x3['Survived'] == 1]['Count'].sum()\n",
    "\n",
    "x4 = age_30_40.groupby('Age')['Survived'].value_counts().rename('Count').reset_index()\n",
    "a4 = x4[x4['Survived'] == 0]['Count'].sum()\n",
    "b4 = x4[x4['Survived'] == 1]['Count'].sum()\n",
    "\n",
    "x5 = age_40_50.groupby('Age')['Survived'].value_counts().rename('Count').reset_index()\n",
    "a5 = x5[x5['Survived'] == 0]['Count'].sum()\n",
    "b5 = x5[x5['Survived'] == 1]['Count'].sum()\n",
    "\n",
    "x6 = age_50_60.groupby('Age')['Survived'].value_counts().rename('Count').reset_index()\n",
    "a6 = x6[x6['Survived'] == 0]['Count'].sum()\n",
    "b6 = x6[x6['Survived'] == 1]['Count'].sum()\n",
    "\n",
    "x7 = age_60_70.groupby('Age')['Survived'].value_counts().rename('Count').reset_index()\n",
    "a7 = x7[x7['Survived'] == 0]['Count'].sum()\n",
    "b7 = x7[x7['Survived'] == 1]['Count'].sum()\n",
    "\n",
    "x8 = age_70_80.groupby('Age')['Survived'].value_counts().rename('Count').reset_index()\n",
    "a8 = x8[x8['Survived'] == 0]['Count'].sum()\n",
    "b8 = x8[x8['Survived'] == 1]['Count'].sum()\n",
    "\n",
    "Age_distribution = pd.DataFrame({'Age Range':['0-10','10-20','20-30','30-40','40-50','50-60','60-70','70-80'],\n",
    "                         'Not-Survived' : [a1,a2,a3,a4,a5,a6,a7,a8],'Survived' : [b1,b2,b3,b4,b5,b6,b7,b8]})\n",
    "Age_distribution.set_index('Age Range',inplace = True)\n",
    "Age_distribution.plot(kind = 'bar')\n",
    "plt.ylabel(\"Count\")\n",
    "plt.title(\"Survival Distribution by Age Ranges\")"
   ]
  },
  {
   "cell_type": "markdown",
   "metadata": {},
   "source": [
    "Convert Features into Numerical Values"
   ]
  },
  {
   "cell_type": "code",
   "execution_count": null,
   "metadata": {},
   "outputs": [],
   "source": [
    "#Mapping\n",
    "sex_map = {'male':0,'female': 1}\n",
    "train['Sex'] = train['Sex'].map(sex_map)\n",
    "test['Sex'] = test['Sex'].map(sex_map)"
   ]
  },
  {
   "cell_type": "code",
   "execution_count": null,
   "metadata": {},
   "outputs": [],
   "source": [
    "embarked_map = {'S':1,'C':2,'Q':3}\n",
    "train['Embarked'] = train['Embarked'].map(embarked_map)\n",
    "test['Embarked'] = test['Embarked'].map(embarked_map)"
   ]
  },
  {
   "cell_type": "code",
   "execution_count": null,
   "metadata": {},
   "outputs": [],
   "source": [
    "#Check if all values are numerical or not\n",
    "train.head()\n",
    "test.head()"
   ]
  },
  {
   "cell_type": "markdown",
   "metadata": {},
   "source": [
    "### Implement Machine Learning Algorithms"
   ]
  },
  {
   "cell_type": "code",
   "execution_count": null,
   "metadata": {
    "scrolled": false
   },
   "outputs": [],
   "source": [
    "X = train.drop(['Survived'],axis = 1)\n",
    "y = train['Survived']"
   ]
  },
  {
   "cell_type": "markdown",
   "metadata": {},
   "source": [
    "Split into Train and Test data   \n",
    "Train = 70 % and Test = 30%"
   ]
  },
  {
   "cell_type": "code",
   "execution_count": null,
   "metadata": {},
   "outputs": [],
   "source": [
    "from sklearn.model_selection import train_test_split\n",
    "X_train,X_test,y_train,y_test = train_test_split(X, y, test_size=0.3)"
   ]
  },
  {
   "cell_type": "markdown",
   "metadata": {},
   "source": [
    "Import Necessary Libraries"
   ]
  },
  {
   "cell_type": "code",
   "execution_count": null,
   "metadata": {},
   "outputs": [],
   "source": [
    "from sklearn.linear_model import LogisticRegression\n",
    "from sklearn.naive_bayes import GaussianNB\n",
    "from sklearn.metrics import accuracy_score\n",
    "from sklearn.tree import DecisionTreeClassifier\n",
    "from sklearn.ensemble import RandomForestClassifier"
   ]
  },
  {
   "cell_type": "markdown",
   "metadata": {},
   "source": [
    "1. Logistic Regression Algorithm"
   ]
  },
  {
   "cell_type": "code",
   "execution_count": null,
   "metadata": {},
   "outputs": [],
   "source": [
    "LR = LogisticRegression(solver = 'lbfgs')\n",
    "LR.fit(X_train,y_train)\n",
    "y_pred = LR.predict(X_test)\n",
    "LR_Score = accuracy_score(y_pred,y_test)\n",
    "print(\"Accuracy Using Naive Bayes : \", LR_Score)"
   ]
  },
  {
   "cell_type": "markdown",
   "metadata": {},
   "source": [
    "2. Gaussian Naive Bayes Algorithm"
   ]
  },
  {
   "cell_type": "code",
   "execution_count": null,
   "metadata": {},
   "outputs": [],
   "source": [
    "gaussian = GaussianNB()\n",
    "gaussian.fit(X_train, y_train)\n",
    "y_pred = gaussian.predict(X_test)\n",
    "GB_Score = accuracy_score(y_pred,y_test)\n",
    "print(\"Accuracy Using Logistic Regression : \", GB_Score)"
   ]
  },
  {
   "cell_type": "markdown",
   "metadata": {},
   "source": [
    "3. Decision Tree Algorithm"
   ]
  },
  {
   "cell_type": "code",
   "execution_count": null,
   "metadata": {},
   "outputs": [],
   "source": [
    "DT = DecisionTreeClassifier()\n",
    "DT.fit(X_train, y_train)\n",
    "y_pred = DT.predict(X_test)\n",
    "DT_Score = accuracy_score(y_pred,y_test)\n",
    "print(\"Accuracy Using Decision Tree : \",DT_Score)"
   ]
  },
  {
   "cell_type": "markdown",
   "metadata": {},
   "source": [
    "4. Random Forest Algorithm"
   ]
  },
  {
   "cell_type": "code",
   "execution_count": null,
   "metadata": {},
   "outputs": [],
   "source": [
    "RF = RandomForestClassifier(n_estimators=100)\n",
    "RF.fit(X_train, y_train)\n",
    "y_pred = RF.predict(X_test)\n",
    "RF_Score = accuracy_score(y_pred,y_test)\n",
    "print(\"Accuracy Using Random Forest : \",RF_Score)"
   ]
  },
  {
   "cell_type": "code",
   "execution_count": null,
   "metadata": {},
   "outputs": [],
   "source": [
    "Results = pd.DataFrame({'Model': ['Logistic Regression','Gaussian Naive Bayes','Decision Tree','Random Forest'],\n",
    "                        'Accuracy Score' : [LR_Score,GB_Score,DT_Score,RF_Score]})"
   ]
  },
  {
   "cell_type": "code",
   "execution_count": null,
   "metadata": {},
   "outputs": [],
   "source": [
    "Results"
   ]
  },
  {
   "cell_type": "code",
   "execution_count": null,
   "metadata": {},
   "outputs": [],
   "source": [
    "Final_Results = Results.sort_values(by = 'Accuracy Score', ascending=False)\n",
    "Final_Results = Final_Results.set_index('Model')\n",
    "print(Final_Results)"
   ]
  },
  {
   "cell_type": "code",
   "execution_count": null,
   "metadata": {},
   "outputs": [],
   "source": [
    "Predictions = RF.predict(test)\n",
    "#set the output as a dataframe and convert to csv file named submission.csv\n",
    "output = pd.DataFrame({ 'PassengerId' : Id, 'Survived': Predictions })\n",
    "output.to_csv('submission.csv', index=False)"
   ]
  },
  {
   "cell_type": "code",
   "execution_count": null,
   "metadata": {},
   "outputs": [],
   "source": []
  }
 ],
 "metadata": {
  "kernelspec": {
   "display_name": "Python 3",
   "language": "python",
   "name": "python3"
  },
  "language_info": {
   "codemirror_mode": {
    "name": "ipython",
    "version": 3
   },
   "file_extension": ".py",
   "mimetype": "text/x-python",
   "name": "python",
   "nbconvert_exporter": "python",
   "pygments_lexer": "ipython3",
   "version": "3.7.1"
  }
 },
 "nbformat": 4,
 "nbformat_minor": 2
}
